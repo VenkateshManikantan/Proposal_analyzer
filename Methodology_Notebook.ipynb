{
 "cells": [
  {
   "cell_type": "code",
   "execution_count": 1,
   "metadata": {},
   "outputs": [],
   "source": [
    "from langchain.vectorstores import FAISS\n",
    "from langchain_community.document_loaders import PyPDFLoader\n",
    "from langchain_community.document_loaders import PyMuPDFLoader\n",
    "from langchain_openai import OpenAIEmbeddings\n",
    "from langchain_text_splitters import RecursiveCharacterTextSplitter\n",
    "import os\n",
    "from dotenv import load_dotenv\n",
    "load_dotenv()\n",
    "os.environ['OPENAI_API_KEY'] = os.getenv('OPEN_AI_API_KEY_2')"
   ]
  },
  {
   "cell_type": "markdown",
   "metadata": {},
   "source": [
    "#### Chunking RFP document and Testing RAG"
   ]
  },
  {
   "cell_type": "code",
   "execution_count": 2,
   "metadata": {},
   "outputs": [],
   "source": [
    "loader = PyMuPDFLoader(\"data/tendernotice-1-11713759672.pdf\")"
   ]
  },
  {
   "cell_type": "code",
   "execution_count": 3,
   "metadata": {},
   "outputs": [],
   "source": [
    "documents = loader.load()"
   ]
  },
  {
   "cell_type": "code",
   "execution_count": 4,
   "metadata": {},
   "outputs": [],
   "source": [
    "text_splitter = RecursiveCharacterTextSplitter(chunk_size=1024, chunk_overlap=0)\n",
    "docs = text_splitter.split_documents(documents)\n",
    "# create the open-source embedding function\n",
    "embedding_function = OpenAIEmbeddings()"
   ]
  },
  {
   "cell_type": "code",
   "execution_count": 5,
   "metadata": {},
   "outputs": [],
   "source": [
    "db = FAISS.from_documents(docs, embedding_function)"
   ]
  },
  {
   "cell_type": "code",
   "execution_count": 6,
   "metadata": {},
   "outputs": [
    {
     "data": {
      "text/plain": [
       "(Document(metadata={'source': 'data/tendernotice-1-11713759672.pdf', 'file_path': 'data/tendernotice-1-11713759672.pdf', 'page': 38, 'total_pages': 41, 'format': 'PDF 1.7', 'title': '', 'author': 'hp', 'subject': '', 'keywords': '', 'creator': 'Microsoft® Word 2021', 'producer': 'Microsoft® Word 2021', 'creationDate': \"D:20240419173740+05'30'\", 'modDate': \"D:20240419173740+05'30'\", 'trapped': ''}, page_content='Request for Proposal for the Engagement of an Agency to Conduct Market Study on Artificial Intelligence (AI) and \\nCompetition \\n39 \\n \\nAnnexure 7: Approach, Methodology and Detailed Work Plan \\n \\n \\na. Approach and Methodology—including plan of action, recruitment plan, sample unit \\nselection method, survey method, data/information gathering plan, stakeholder \\nconsultation plan (including survey, one-on-one meetings, focused group discussions, \\nany other details), analysis of data/information, monitoring plan, strategies for quality \\ncontrol, timeline etc. in relation to objective, scope and methodology prescribed in \\nRFP. \\n \\n \\n \\n \\n \\n \\n \\n \\nb. Work plan (The work plan should be consistent with the deliverables/timelines and to be \\ngiven with the timeline for each activity)'),\n",
       " 0.40393028)"
      ]
     },
     "execution_count": 6,
     "metadata": {},
     "output_type": "execute_result"
    }
   ],
   "source": [
    "query = \"What is the methodology section means within the document\"\n",
    "vectors  = embedding_function.embed_query(query)\n",
    "docs = db.similarity_search_with_score_by_vector(vectors , k = 4)\n",
    "docs[0]"
   ]
  },
  {
   "cell_type": "code",
   "execution_count": 7,
   "metadata": {},
   "outputs": [
    {
     "name": "stdout",
     "output_type": "stream",
     "text": [
      "Document Metadata: {'source': 'data/tendernotice-1-11713759672.pdf', 'file_path': 'data/tendernotice-1-11713759672.pdf', 'page': 38, 'total_pages': 41, 'format': 'PDF 1.7', 'title': '', 'author': 'hp', 'subject': '', 'keywords': '', 'creator': 'Microsoft® Word 2021', 'producer': 'Microsoft® Word 2021', 'creationDate': \"D:20240419173740+05'30'\", 'modDate': \"D:20240419173740+05'30'\", 'trapped': ''}\n",
      "Page Content: Request for Proposal for the Engagement of an Agency to Conduct Market Study on Artificial Intelligence (AI) and \n",
      "Competition \n",
      "39 \n",
      " \n",
      "Annexure 7: Approach, Methodology and Detailed Work Plan \n",
      " \n",
      " \n",
      "a. Approach and Methodology—including plan of action, recruitment plan, sample unit \n",
      "selection method, survey method, data/information gathering plan, stakeholder \n",
      "consultation plan (including survey, one-on-one meetings, focused group discussions, \n",
      "any other details), analysis of data/information, monitoring plan, strategies for quality \n",
      "control, timeline etc. in relation to objective, scope and methodology prescribed in \n",
      "RFP. \n",
      " \n",
      " \n",
      " \n",
      " \n",
      " \n",
      " \n",
      " \n",
      " \n",
      "b. Work plan (The work plan should be consistent with the deliverables/timelines and to be \n",
      "given with the timeline for each activity)\n",
      "Number: 0.40393028\n"
     ]
    }
   ],
   "source": [
    "# Extract elements\n",
    "document, number = docs[0]\n",
    "# Print the extracted elements\n",
    "print(\"Document Metadata:\", document.metadata)\n",
    "print(\"Page Content:\", document.page_content)\n",
    "print(\"Number:\", number)"
   ]
  },
  {
   "cell_type": "code",
   "execution_count": 8,
   "metadata": {},
   "outputs": [
    {
     "name": "stdout",
     "output_type": "stream",
     "text": [
      "Document Metadata: 38\n",
      "Page Content: Request for Proposal for the Engagement of an Agency to Conduct Market Study on Artificial Intelligence (AI) and \n",
      "Competition \n",
      "39 \n",
      " \n",
      "Annexure 7: Approach, Methodology and Detailed Work Plan \n",
      " \n",
      " \n",
      "a. Approach and Methodology—including plan of action, recruitment plan, sample unit \n",
      "selection method, survey method, data/information gathering plan, stakeholder \n",
      "consultation plan (including survey, one-on-one meetings, focused group discussions, \n",
      "any other details), analysis of data/information, monitoring plan, strategies for quality \n",
      "control, timeline etc. in relation to objective, scope and methodology prescribed in \n",
      "RFP. \n",
      " \n",
      " \n",
      " \n",
      " \n",
      " \n",
      " \n",
      " \n",
      " \n",
      "b. Work plan (The work plan should be consistent with the deliverables/timelines and to be \n",
      "given with the timeline for each activity)\n"
     ]
    }
   ],
   "source": [
    "docs = db.similarity_search(query , k = 4)\n",
    "docs[0]\n",
    "document= docs[0]\n",
    "# Print the extracted elements\n",
    "print(\"Document Metadata:\", document.metadata[\"page\"])\n",
    "print(\"Page Content:\", document.page_content)"
   ]
  },
  {
   "cell_type": "code",
   "execution_count": 9,
   "metadata": {},
   "outputs": [],
   "source": [
    "db.save_local(\"vectorstore/RFP/\")"
   ]
  },
  {
   "cell_type": "markdown",
   "metadata": {},
   "source": [
    "#### Chunking Proposal document and Testing RAG"
   ]
  },
  {
   "cell_type": "code",
   "execution_count": 10,
   "metadata": {},
   "outputs": [
    {
     "name": "stderr",
     "output_type": "stream",
     "text": [
      "<>:1: SyntaxWarning: invalid escape sequence '\\P'\n",
      "<>:1: SyntaxWarning: invalid escape sequence '\\P'\n",
      "C:\\Users\\venkatesh.manikantan\\AppData\\Local\\Temp\\2\\ipykernel_11256\\2971598626.py:1: SyntaxWarning: invalid escape sequence '\\P'\n",
      "  loader = PyMuPDFLoader(\"data\\Proposal for Conducting Market Study on Artificial Intelligence and Competition.pdf\")\n"
     ]
    }
   ],
   "source": [
    "loader = PyMuPDFLoader(\"data\\Proposal for Conducting Market Study on Artificial Intelligence and Competition.pdf\")\n",
    "documents = loader.load()\n",
    "text_splitter = RecursiveCharacterTextSplitter(chunk_size=1024, chunk_overlap=0)\n",
    "docs = text_splitter.split_documents(documents)\n",
    "# create the open-source embedding function\n",
    "embedding_function = OpenAIEmbeddings()\n",
    "db = FAISS.from_documents(docs, embedding_function)\n",
    "query = \"What is the methodology section means within the document\"\n",
    "vectors  = embedding_function.embed_query(query)\n",
    "docs = db.similarity_search_with_score_by_vector(vectors , k = 4)"
   ]
  },
  {
   "cell_type": "code",
   "execution_count": 11,
   "metadata": {},
   "outputs": [
    {
     "name": "stdout",
     "output_type": "stream",
     "text": [
      "Document Metadata: {'source': 'data\\\\Proposal for Conducting Market Study on Artificial Intelligence and Competition.pdf', 'file_path': 'data\\\\Proposal for Conducting Market Study on Artificial Intelligence and Competition.pdf', 'page': 0, 'total_pages': 2, 'format': 'PDF 1.7', 'title': '', 'author': 'Venkatesh Viswanathan Manikantan', 'subject': '', 'keywords': '', 'creator': 'Microsoft® Word 2019', 'producer': 'Microsoft® Word 2019', 'creationDate': \"D:20240723051541+02'00'\", 'modDate': \"D:20240723051541+02'00'\", 'trapped': ''}\n",
      "Page Content: Objectives: To assess how AI shapes competition in various sectors and identify \n",
      "potential regulatory responses. \n",
      "• \n",
      "Methodology: \n",
      "1. Literature Review: Access to major databases like JSTOR, IEEE Xplore, and \n",
      "proprietary tech industry reports. \n",
      "2. Stakeholder Consultation: Interviews with 50+ firms including AI startups, tech \n",
      "giants, and policy bodies. \n",
      "3. Data Collection and Analysis: Use of statistical software for quantitative \n",
      "analysis and thematic analysis for qualitative insights. \n",
      "4. Reporting: Drafting an interim report for feedback, followed by a detailed final \n",
      "report with policy recommendations. \n",
      "Project Team and Management Structure \n",
      "• \n",
      "Project Leader: Dr. Lisa Ray, Ph.D. in AI from MIT, 12 years of experience in AI \n",
      "research. \n",
      "• \n",
      "Team Members: Includes data scientists, AI experts, competition economists, and legal \n",
      "advisors. \n",
      "• \n",
      "Organizational Chart: [Insert a simple diagram showing the team structure] \n",
      "Project Timeline\n",
      "Number: 0.4936867\n"
     ]
    }
   ],
   "source": [
    "# Extract elements\n",
    "document, number = docs[0]\n",
    "# Print the extracted elements\n",
    "print(\"Document Metadata:\", document.metadata)\n",
    "print(\"Page Content:\", document.page_content)\n",
    "print(\"Number:\", number)"
   ]
  },
  {
   "cell_type": "code",
   "execution_count": 13,
   "metadata": {},
   "outputs": [
    {
     "name": "stdout",
     "output_type": "stream",
     "text": [
      "Document Metadata: 0\n",
      "Page Content: Objectives: To assess how AI shapes competition in various sectors and identify \n",
      "potential regulatory responses. \n",
      "• \n",
      "Methodology: \n",
      "1. Literature Review: Access to major databases like JSTOR, IEEE Xplore, and \n",
      "proprietary tech industry reports. \n",
      "2. Stakeholder Consultation: Interviews with 50+ firms including AI startups, tech \n",
      "giants, and policy bodies. \n",
      "3. Data Collection and Analysis: Use of statistical software for quantitative \n",
      "analysis and thematic analysis for qualitative insights. \n",
      "4. Reporting: Drafting an interim report for feedback, followed by a detailed final \n",
      "report with policy recommendations. \n",
      "Project Team and Management Structure \n",
      "• \n",
      "Project Leader: Dr. Lisa Ray, Ph.D. in AI from MIT, 12 years of experience in AI \n",
      "research. \n",
      "• \n",
      "Team Members: Includes data scientists, AI experts, competition economists, and legal \n",
      "advisors. \n",
      "• \n",
      "Organizational Chart: [Insert a simple diagram showing the team structure] \n",
      "Project Timeline\n"
     ]
    }
   ],
   "source": [
    "docs = db.similarity_search(query , k = 4)\n",
    "document= docs[0]\n",
    "# Print the extracted elements\n",
    "print(\"Document Metadata:\", document.metadata[\"page\"])\n",
    "print(\"Page Content:\", document.page_content)"
   ]
  },
  {
   "cell_type": "code",
   "execution_count": 14,
   "metadata": {},
   "outputs": [],
   "source": [
    "db.save_local(\"vectorstore/Proposals/\")"
   ]
  },
  {
   "cell_type": "markdown",
   "metadata": {},
   "source": [
    "#### Custom Documents Analyser Chain"
   ]
  },
  {
   "cell_type": "code",
   "execution_count": 12,
   "metadata": {},
   "outputs": [],
   "source": [
    "from langchain.chains import LLMChain"
   ]
  },
  {
   "cell_type": "code",
   "execution_count": 13,
   "metadata": {},
   "outputs": [
    {
     "name": "stderr",
     "output_type": "stream",
     "text": [
      "c:\\ProgramData\\anaconda3\\envs\\Contract_Analyzer\\Lib\\site-packages\\langchain_core\\_api\\deprecation.py:151: LangChainDeprecationWarning: The class `ChatOpenAI` was deprecated in LangChain 0.0.10 and will be removed in 0.3.0. An updated version of the class exists in the langchain-openai package and should be used instead. To use it run `pip install -U langchain-openai` and import as `from langchain_openai import ChatOpenAI`.\n",
      "  warn_deprecated(\n",
      "c:\\ProgramData\\anaconda3\\envs\\Contract_Analyzer\\Lib\\site-packages\\langchain_core\\_api\\deprecation.py:151: LangChainDeprecationWarning: The class `LLMChain` was deprecated in LangChain 0.1.17 and will be removed in 1.0. Use RunnableSequence, e.g., `prompt | llm` instead.\n",
      "  warn_deprecated(\n"
     ]
    },
    {
     "name": "stdout",
     "output_type": "stream",
     "text": [
      "The vendor, Quantum Analytics Consulting, has provided a detailed proposal for conducting a market study on Artificial Intelligence and Competition to the Competition Commission of India. Let's analyze whether the vendor has met the criteria outlined in the RFP's objective statement:\n",
      "\n",
      "1. Project Timeline:\n",
      "The vendor's proposed project timeline aligns with the RFP's objectives:\n",
      "- Weeks 1-6: Secondary research and development of questionnaires.\n",
      "- Weeks 7-18: Stakeholder interviews and data collection.\n",
      "- Weeks 19-24: Data analysis and interim report preparation.\n",
      "- Weeks 25-30: Final report drafting and review.\n",
      "- Week 31: Presentation to the Commission.\n",
      "\n",
      "Verdict: The vendor has met the timeline criteria specified in the RFP.\n",
      "\n",
      "2. Risk Management and Quality Assurance:\n",
      "The vendor has outlined their risk management and quality assurance measures:\n",
      "- Risk Management: Regular audits and stakeholder feedback loops to mitigate risks.\n",
      "- Quality Assurance: Peer reviews and compliance checks with ISO 9001 standards.\n",
      "\n",
      "Verdict: The vendor has addressed risk management and quality assurance as per the RFP requirements.\n",
      "\n",
      "3. Legal and Regulatory Compliance:\n",
      "The vendor has addressed legal and regulatory compliance:\n",
      "- Data Protection: Adherence to GDPR and local data protection laws.\n",
      "- Confidentiality: Strict protocols for handling sensitive information.\n",
      "\n",
      "Verdict: The vendor has met the legal and regulatory compliance criteria specified in the RFP.\n",
      "\n",
      "4. Budget and Cost Justification:\n",
      "The vendor has provided a breakdown of the total project cost and a value proposition:\n",
      "- Total Project Cost: $500,000\n",
      "  - Labor: $300,000\n",
      "  - Travel and Meetings: $50,000\n",
      "  - Data Access and Tools: $100,000\n",
      "  - Miscellaneous: $50,000\n",
      "- Value Proposition: Cost-effective due to in-house AI tools and existing data agreements.\n",
      "\n",
      "Verdict: The vendor has justified the budget and provided a value proposition as required by the RFP.\n",
      "\n",
      "5. Annexures:\n",
      "The vendor has included the necessary annexures:\n",
      "- Annexure 1: Certificate of Incorporation.\n",
      "- Annexure 2: Financial Statements for FY 2022-23.\n",
      "- Annexure 3: Copies of completion certificates for relevant past projects.\n",
      "\n",
      "Verdict: The vendor has included the required annexures as per the RFP.\n",
      "\n",
      "In conclusion, Quantum Analytics Consulting has effectively addressed the objectives outlined in the RFP. They have provided a comprehensive proposal that aligns with the project timeline, risk management, quality assurance, legal compliance, budget justification, and necessary annexures. The vendor's expertise, experience, and approach demonstrate their capability to conduct the market study on AI and competition effectively. It is recommended to proceed with Quantum Analytics Consulting for the project based on their proposal meeting the RFP criteria.\n"
     ]
    }
   ],
   "source": [
    "from langchain.chains import LLMChain\n",
    "from langchain.llms import OpenAI\n",
    "from langchain.prompts import PromptTemplate\n",
    "from langchain.chat_models import ChatOpenAI\n",
    "\n",
    "\n",
    "template =\"\"\"\n",
    "Your objective is to analyze the objective portion of an RFP with a proposal and give your inputs to the company wheather the vendor has met the criteria of the RFP.\n",
    "    \n",
    "\n",
    "Please refer to the following RFP's objective statement: \n",
    "\n",
    "{RFP}\n",
    "\n",
    "Please refer to the following proposal submited by the vendor:\n",
    "\n",
    "{Proposal}\n",
    "\n",
    "You need to analyze from the respective portion wheather the vendor is meeting the ojective crietera and if so how are they meeting if not what are they lacking, give answer in great detail and solve the problem step by step\n",
    "\n",
    "A.\n",
    "\"\"\"\n",
    "\n",
    "prompt = PromptTemplate(\n",
    "    input_variables=[\"RFP\",\"Proposal\"],\n",
    "    template = template                      \n",
    ")\n",
    "\n",
    "DB_FAISS_PATH_1 = \"vectorstore\\\\RFP\\\\\"\n",
    "rfp_db = FAISS.load_local(DB_FAISS_PATH_1, embedding_function,allow_dangerous_deserialization=True)\n",
    "query_1 = \"What are the main points of ojective of the RFP that the vendor needs to fullfill\"\n",
    "docs_1 = db.similarity_search(query_1 , k = 4)\n",
    "context1_rfp = docs_1[0].page_content + docs_1[1].page_content + docs_1[2].page_content + docs_1[3].page_content\n",
    "\n",
    "DB_FAISS_PATH_2 = \"vectorstore\\\\Proposals\\\\\"\n",
    "p_db = FAISS.load_local(DB_FAISS_PATH_2, embedding_function,allow_dangerous_deserialization = True)\n",
    "query_2 = \"Get me a brief summary of the objective of the vendor in detail\"\n",
    "docs_2 = db.similarity_search(query_2 , k = 4)\n",
    "context2_proposals = docs_2[0].page_content + docs_2[1].page_content + docs_2[2].page_content + docs_2[3].page_content\n",
    "\n",
    "\n",
    "Objective = LLMChain(\n",
    "    llm=ChatOpenAI(temperature=0, model=\"gpt-3.5-turbo\"),\n",
    "    prompt=prompt,\n",
    "    output_key=\"solutions\"\n",
    ")\n",
    "print(Objective.predict(RFP = context1_rfp, Proposal = context2_proposals))"
   ]
  },
  {
   "cell_type": "code",
   "execution_count": 14,
   "metadata": {},
   "outputs": [
    {
     "name": "stdout",
     "output_type": "stream",
     "text": [
      "The vendor, Quantum Analytics Consulting, has outlined a comprehensive methodology in their proposal that aligns well with the objectives of the RFP. Let's break down each component of the methodology and assess whether the vendor has met the criteria of the RFP:\n",
      "\n",
      "1. Literature Review:\n",
      "The vendor plans to access major databases like JSTOR, IEEE Xplore, and proprietary tech industry reports for their literature review. This approach demonstrates a thorough and systematic method of gathering existing knowledge on the subject, which is in line with the RFP's objective of assessing how AI shapes competition. The use of reputable databases indicates a commitment to conducting a rigorous literature review.\n",
      "\n",
      "2. Stakeholder Consultation:\n",
      "The vendor intends to conduct interviews with 50+ firms, including AI startups, tech giants, and policy bodies. This stakeholder consultation is crucial for gaining insights from industry experts and key players in the field. By involving a diverse range of stakeholders, the vendor is ensuring a comprehensive understanding of the impact of AI on competition. This approach meets the RFP's requirement to identify potential regulatory responses through stakeholder engagement.\n",
      "\n",
      "3. Data Collection and Analysis:\n",
      "The vendor plans to use statistical software for quantitative analysis and thematic analysis for qualitative insights. This combination of quantitative and qualitative methods indicates a robust approach to data collection and analysis. By utilizing statistical software for quantitative analysis, the vendor is ensuring the accuracy and reliability of their findings. Additionally, thematic analysis for qualitative insights will provide a deeper understanding of the issues at hand. This methodology aligns well with the RFP's objective of assessing the impact of AI on competition.\n",
      "\n",
      "4. Reporting:\n",
      "The vendor proposes to draft an interim report for feedback, followed by a detailed final report with policy recommendations. This reporting structure demonstrates a clear plan for communicating the study findings and recommendations to the Competition Commission of India. By providing both interim and final reports, the vendor is ensuring transparency and accountability in their research process. This approach meets the RFP's requirement for a detailed final report with policy recommendations.\n",
      "\n",
      "Overall, Quantum Analytics Consulting has presented a methodology that effectively addresses the objectives of the RFP. Their approach to conducting a market study on the impact of AI on competition is thorough, systematic, and well-structured. The vendor's methodology demonstrates a commitment to delivering comprehensive, insightful, and actionable findings, as stated in their conclusion.\n",
      "\n",
      "In conclusion, based on the methodology outlined in the proposal, Quantum Analytics Consulting has met the criteria of the RFP in terms of methodology. Their approach to assessing how AI shapes competition and identifying potential regulatory responses is well-defined and aligned with the objectives of the RFP. The vendor's methodology is comprehensive, methodical, and likely to yield valuable insights for the Competition Commission of India.\n"
     ]
    }
   ],
   "source": [
    "from langchain.chains import LLMChain\n",
    "from langchain.llms import OpenAI\n",
    "from langchain.prompts import PromptTemplate\n",
    "from langchain.chat_models import ChatOpenAI\n",
    "\n",
    "\n",
    "template =\"\"\"\n",
    "Your objective is to analyze the methdology portion of an RFP with a proposal and give your inputs to the company wheather the vendor has met the criteria of the RFP.\n",
    "    \n",
    "\n",
    "Please refer to the following RFP's methodology statement: \n",
    "\n",
    "{RFP}\n",
    "\n",
    "Please refer to the following proposal's methodology submited by the vendor:\n",
    "\n",
    "{Proposal}\n",
    "\n",
    "You need to analyze from the respective portion wheather the vendor is meeting the methodology crietera and if so how are they meeting if not what are they lacking, give answer in great detail and solve the problem step by step\n",
    "\n",
    "A.\n",
    "\"\"\"\n",
    "\n",
    "prompt = PromptTemplate(\n",
    "    input_variables=[\"RFP\",\"Proposal\"],\n",
    "    template = template                      \n",
    ")\n",
    "\n",
    "DB_FAISS_PATH_1 = \"vectorstore\\\\RFP\\\\\"\n",
    "rfp_db = FAISS.load_local(DB_FAISS_PATH_1, embedding_function,allow_dangerous_deserialization=True)\n",
    "query_1 = \"What are the main points of methodology parts mentioned in the RFP\"\n",
    "docs_1 = db.similarity_search(query , k = 4)\n",
    "context1_rfp = docs_1[0].page_content + docs_1[1].page_content + docs_1[2].page_content + docs_1[3].page_content\n",
    "\n",
    "DB_FAISS_PATH_2 = \"vectorstore\\\\Proposals\\\\\"\n",
    "p_db = FAISS.load_local(DB_FAISS_PATH_2, embedding_function,allow_dangerous_deserialization = True)\n",
    "query_1 = \"What are the main points of methodology that the vendor has mentioned\"\n",
    "docs_2 = db.similarity_search(query , k = 4)\n",
    "context2_proposals = docs_2[0].page_content + docs_2[1].page_content + docs_2[2].page_content + docs_2[3].page_content\n",
    "\n",
    "\n",
    "Objective = LLMChain(\n",
    "    llm=ChatOpenAI(temperature=0, model=\"gpt-3.5-turbo\"),\n",
    "    prompt=prompt,\n",
    "    output_key=\"solutions\"\n",
    ")\n",
    "print(Objective.predict(RFP = context1_rfp, Proposal = context2_proposals))"
   ]
  },
  {
   "cell_type": "code",
   "execution_count": null,
   "metadata": {},
   "outputs": [],
   "source": []
  }
 ],
 "metadata": {
  "kernelspec": {
   "display_name": "PwC",
   "language": "python",
   "name": "python3"
  },
  "language_info": {
   "codemirror_mode": {
    "name": "ipython",
    "version": 3
   },
   "file_extension": ".py",
   "mimetype": "text/x-python",
   "name": "python",
   "nbconvert_exporter": "python",
   "pygments_lexer": "ipython3",
   "version": "3.12.4"
  }
 },
 "nbformat": 4,
 "nbformat_minor": 2
}
